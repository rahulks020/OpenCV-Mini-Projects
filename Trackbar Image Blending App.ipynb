{
 "cells": [
  {
   "cell_type": "code",
   "execution_count": 2,
   "metadata": {},
   "outputs": [
    {
     "name": "stdout",
     "output_type": "stream",
     "text": [
      "(0, 1)\n",
      "(0, 1)\n",
      "(0, 1)\n",
      "(0, 1)\n",
      "(0, 1)\n",
      "(0, 1)\n",
      "(0, 1)\n",
      "(0, 1)\n",
      "(0, 1)\n",
      "(0, 1)\n",
      "(0, 1)\n",
      "(0, 1)\n",
      "(0, 1)\n",
      "(0, 1)\n",
      "(0, 1)\n",
      "(0, 1)\n",
      "(0, 1)\n",
      "(0, 1)\n",
      "(0, 1)\n",
      "(0, 1)\n",
      "(0, 1)\n",
      "(0, 1)\n",
      "(0, 1)\n",
      "(0, 1)\n",
      "(0, 1)\n",
      "(0, 1)\n",
      "(0, 1)\n",
      "(0, 1)\n",
      "(0, 1)\n",
      "(0, 1)\n",
      "(0, 1)\n",
      "(0, 1)\n",
      "(0, 1)\n",
      "(0, 1)\n",
      "(0, 1)\n",
      "(0, 1)\n",
      "(0, 1)\n",
      "(0, 1)\n",
      "(0, 1)\n",
      "(0, 1)\n",
      "(0, 1)\n",
      "(0, 1)\n",
      "(0, 1)\n",
      "(0, 1)\n",
      "(0, 1)\n",
      "(0, 1)\n",
      "(0, 1)\n",
      "(0, 1)\n",
      "(0, 1)\n",
      "(0, 1)\n",
      "(0, 1)\n",
      "(0, 1)\n",
      "(0, 1)\n",
      "(0, 1)\n",
      "(0, 1)\n",
      "(0, 1)\n",
      "(0, 1)\n",
      "(0, 1)\n",
      "(0, 1)\n",
      "(0, 1)\n",
      "(0, 1)\n",
      "(0, 1)\n",
      "(0, 1)\n",
      "(0, 1)\n",
      "(0, 1)\n",
      "(0, 1)\n",
      "(0, 1)\n",
      "(0, 1)\n",
      "(0, 1)\n",
      "(0, 1)\n",
      "(0, 1)\n",
      "(0, 1)\n",
      "(0, 1)\n",
      "(0, 1)\n",
      "(0, 1)\n",
      "(0, 1)\n",
      "(0, 1)\n",
      "(0, 1)\n",
      "(0, 1)\n",
      "(0, 1)\n",
      "(0, 1)\n",
      "(0, 1)\n",
      "(0, 1)\n",
      "(0, 1)\n",
      "(0, 1)\n",
      "(0, 1)\n",
      "(0, 1)\n",
      "(0, 1)\n",
      "(0, 1)\n",
      "(0, 1)\n",
      "(0, 1)\n",
      "(0, 1)\n",
      "(0, 1)\n",
      "(0, 1)\n",
      "(0, 1)\n",
      "(0, 1)\n",
      "(0, 1)\n",
      "(0, 1)\n",
      "(0, 1)\n",
      "(0, 1)\n",
      "(0, 1)\n",
      "(0, 1)\n",
      "(0, 1)\n",
      "(0, 1)\n",
      "(0, 1)\n",
      "(0, 1)\n",
      "(0, 1)\n",
      "(0, 1)\n",
      "(0, 1)\n",
      "(0, 1)\n",
      "(0, 1)\n",
      "(0, 1)\n",
      "(0, 1)\n",
      "(0, 1)\n",
      "(0, 1)\n",
      "(0, 1)\n",
      "(0, 1)\n",
      "(0, 1)\n",
      "(0, 1)\n",
      "(0, 1)\n",
      "(0, 1)\n",
      "(0, 1)\n",
      "(0, 1)\n",
      "(0, 1)\n",
      "(0, 1)\n",
      "(0, 1)\n",
      "(0, 1)\n",
      "(0, 1)\n",
      "(0, 1)\n",
      "(0, 1)\n",
      "(0, 1)\n",
      "(0, 1)\n",
      "(0, 1)\n",
      "(0, 1)\n",
      "(0, 1)\n",
      "(0, 1)\n",
      "(0, 1)\n",
      "(0, 1)\n",
      "(0, 1)\n",
      "(0, 1)\n",
      "(0, 1)\n",
      "(0, 1)\n",
      "(0, 1)\n",
      "(0, 1)\n",
      "(0, 1)\n",
      "(0, 1)\n",
      "(0, 1)\n",
      "(0, 1)\n",
      "(0, 1)\n",
      "(0, 1)\n",
      "(0, 1)\n",
      "(0, 1)\n",
      "(0, 1)\n",
      "(0, 1)\n",
      "(0, 1)\n",
      "(0, 1)\n",
      "(0, 1)\n",
      "(0, 1)\n",
      "(0, 1)\n",
      "(0, 1)\n",
      "(0, 1)\n",
      "(0, 1)\n",
      "(0, 1)\n",
      "(0, 1)\n",
      "(0, 1)\n",
      "(0, 1)\n",
      "(0, 1)\n",
      "(0, 1)\n",
      "(0, 1)\n",
      "(0, 1)\n",
      "(0, 1)\n",
      "(0, 1)\n",
      "(0, 1)\n",
      "(0, 1)\n",
      "(0, 1)\n",
      "(0, 1)\n",
      "(0, 1)\n",
      "(0, 1)\n",
      "(0, 1)\n",
      "(0, 1)\n",
      "(0, 1)\n",
      "(0, 1)\n",
      "(0, 1)\n",
      "(0, 1)\n",
      "(0, 1)\n",
      "(0, 1)\n",
      "(0, 1)\n",
      "(0, 1)\n",
      "(0, 1)\n",
      "(0, 1)\n",
      "(0, 1)\n",
      "(0, 1)\n",
      "(0, 1)\n",
      "(0, 1)\n",
      "(0, 1)\n",
      "(0, 1)\n",
      "(0, 1)\n",
      "(0, 1)\n",
      "(0, 1)\n",
      "(0, 1)\n",
      "(0, 1)\n",
      "(0, 1)\n",
      "(0, 1)\n",
      "(0, 1)\n",
      "(0, 1)\n",
      "(0, 1)\n",
      "(0, 1)\n",
      "(0, 1)\n",
      "(0, 1)\n",
      "(0, 1)\n",
      "(0, 1)\n",
      "(0, 1)\n",
      "(0, 1)\n",
      "(0, 1)\n",
      "(0, 1)\n",
      "(0, 1)\n",
      "(0, 1)\n",
      "(0, 1)\n",
      "(0, 1)\n",
      "(0, 1)\n",
      "(0, 1)\n",
      "(0, 1)\n",
      "(0, 1)\n",
      "(0, 1)\n",
      "(0, 1)\n",
      "(0, 1)\n",
      "(0, 1)\n",
      "(0, 1)\n",
      "(0, 1)\n",
      "(0, 1)\n",
      "(0, 1)\n",
      "(0, 1)\n",
      "(0, 1)\n",
      "(0, 1)\n",
      "(0, 1)\n",
      "(0, 1)\n",
      "(0, 1)\n",
      "(0, 1)\n",
      "(0, 1)\n",
      "(0, 1)\n",
      "(0, 1)\n",
      "(0, 1)\n",
      "(0, 1)\n",
      "(0, 1)\n",
      "(0, 1)\n",
      "(0, 1)\n",
      "(0, 1)\n",
      "(0, 1)\n",
      "(0, 1)\n",
      "(0, 1)\n",
      "(0, 1)\n",
      "(0, 1)\n",
      "(0, 1)\n",
      "(0, 1)\n",
      "(0, 1)\n",
      "(0, 1)\n",
      "(0, 1)\n",
      "(0, 1)\n",
      "(0, 1)\n",
      "(0, 1)\n",
      "(0, 1)\n",
      "(0, 1)\n",
      "(0, 1)\n",
      "(0, 1)\n",
      "(0, 1)\n",
      "(0, 1)\n",
      "(0, 1)\n",
      "(0, 1)\n",
      "(0, 1)\n",
      "(0, 1)\n"
     ]
    },
    {
     "ename": "TypeError",
     "evalue": "emptyFunction() takes no arguments (1 given)",
     "output_type": "error",
     "traceback": [
      "\u001b[1;31m---------------------------------------------------------------------------\u001b[0m",
      "\u001b[1;31mTypeError\u001b[0m                                 Traceback (most recent call last)",
      "\u001b[1;31mTypeError\u001b[0m: emptyFunction() takes no arguments (1 given)"
     ]
    },
    {
     "name": "stdout",
     "output_type": "stream",
     "text": [
      "(0, 1)\n",
      "(0, 1)\n",
      "(0, 1)\n",
      "(0, 1)\n",
      "(0, 1)\n",
      "(0, 1)\n",
      "(0, 1)\n",
      "(0, 1)\n",
      "(0, 1)\n",
      "(0, 1)\n",
      "(0, 1)\n",
      "(0, 1)\n",
      "(0, 1)\n",
      "(0, 1)\n",
      "(0, 1)\n",
      "(0, 1)\n",
      "(0, 1)\n",
      "(0, 1)\n",
      "(0, 1)\n",
      "(0, 1)\n",
      "(0, 1)\n",
      "(0, 1)\n",
      "(0, 1)\n",
      "(0, 1)\n",
      "(0, 1)\n",
      "(0, 1)\n",
      "(0, 1)\n",
      "(0, 1)\n",
      "(0, 1)\n",
      "(0, 1)\n",
      "(0, 1)\n",
      "(0, 1)\n",
      "(0, 1)\n",
      "(0, 1)\n",
      "(0, 1)\n",
      "(0, 1)\n",
      "(0, 1)\n",
      "(0, 1)\n",
      "(0, 1)\n",
      "(0, 1)\n",
      "(0, 1)\n",
      "(0, 1)\n",
      "(0, 1)\n",
      "(0, 1)\n",
      "(0, 1)\n",
      "(0, 1)\n",
      "(0, 1)\n",
      "(0, 1)\n",
      "(0, 1)\n",
      "(0, 1)\n",
      "(0, 1)\n"
     ]
    },
    {
     "ename": "TypeError",
     "evalue": "emptyFunction() takes no arguments (1 given)",
     "output_type": "error",
     "traceback": [
      "\u001b[1;31m---------------------------------------------------------------------------\u001b[0m",
      "\u001b[1;31mTypeError\u001b[0m                                 Traceback (most recent call last)",
      "\u001b[1;31mTypeError\u001b[0m: emptyFunction() takes no arguments (1 given)"
     ]
    },
    {
     "name": "stdout",
     "output_type": "stream",
     "text": [
      "(0, 1)\n",
      "(0, 1)\n",
      "(0, 1)\n",
      "(0, 1)\n",
      "(0, 1)\n",
      "(0, 1)\n",
      "(0, 1)\n",
      "(0, 1)\n",
      "(0, 1)\n",
      "(0, 1)\n",
      "(0, 1)\n",
      "(0, 1)\n",
      "(0, 1)\n",
      "(0, 1)\n",
      "(0, 1)\n",
      "(0, 1)\n",
      "(0, 1)\n"
     ]
    },
    {
     "ename": "TypeError",
     "evalue": "emptyFunction() takes no arguments (1 given)",
     "output_type": "error",
     "traceback": [
      "\u001b[1;31m---------------------------------------------------------------------------\u001b[0m",
      "\u001b[1;31mTypeError\u001b[0m                                 Traceback (most recent call last)",
      "\u001b[1;31mTypeError\u001b[0m: emptyFunction() takes no arguments (1 given)"
     ]
    },
    {
     "name": "stdout",
     "output_type": "stream",
     "text": [
      "(0, 1)\n",
      "(0, 1)\n",
      "(0, 1)\n",
      "(0, 1)\n",
      "(0, 1)\n",
      "(0, 1)\n",
      "(0, 1)\n",
      "(0, 1)\n",
      "(0, 1)\n",
      "(0, 1)\n",
      "(0, 1)\n",
      "(0, 1)\n",
      "(0, 1)\n",
      "(0, 1)\n",
      "(0, 1)\n",
      "(0, 1)\n",
      "(0, 1)\n"
     ]
    },
    {
     "ename": "TypeError",
     "evalue": "emptyFunction() takes no arguments (1 given)",
     "output_type": "error",
     "traceback": [
      "\u001b[1;31m---------------------------------------------------------------------------\u001b[0m",
      "\u001b[1;31mTypeError\u001b[0m                                 Traceback (most recent call last)",
      "\u001b[1;31mTypeError\u001b[0m: emptyFunction() takes no arguments (1 given)"
     ]
    },
    {
     "name": "stdout",
     "output_type": "stream",
     "text": [
      "(0, 1)\n",
      "(0, 1)\n",
      "(0, 1)\n",
      "(0, 1)\n",
      "(0, 1)\n",
      "(0, 1)\n",
      "(0, 1)\n",
      "(0, 1)\n",
      "(0, 1)\n",
      "(0, 1)\n",
      "(0, 1)\n",
      "(0, 1)\n",
      "(0, 1)\n",
      "(0, 1)\n",
      "(0, 1)\n",
      "(0, 1)\n",
      "(0, 1)\n",
      "(0, 1)\n",
      "(0, 1)\n",
      "(0, 1)\n",
      "(0, 1)\n",
      "(0, 1)\n"
     ]
    },
    {
     "ename": "TypeError",
     "evalue": "emptyFunction() takes no arguments (1 given)",
     "output_type": "error",
     "traceback": [
      "\u001b[1;31m---------------------------------------------------------------------------\u001b[0m",
      "\u001b[1;31mTypeError\u001b[0m                                 Traceback (most recent call last)",
      "\u001b[1;31mTypeError\u001b[0m: emptyFunction() takes no arguments (1 given)"
     ]
    },
    {
     "name": "stdout",
     "output_type": "stream",
     "text": [
      "(0, 1)\n",
      "(0, 1)\n",
      "(0, 1)\n",
      "(0, 1)\n",
      "(0, 1)\n",
      "(0, 1)\n",
      "(0, 1)\n",
      "(0, 1)\n",
      "(0, 1)\n",
      "(0, 1)\n",
      "(0, 1)\n",
      "(0, 1)\n",
      "(0, 1)\n",
      "(0, 1)\n",
      "(0, 1)\n",
      "(0, 1)\n"
     ]
    },
    {
     "ename": "TypeError",
     "evalue": "emptyFunction() takes no arguments (1 given)",
     "output_type": "error",
     "traceback": [
      "\u001b[1;31m---------------------------------------------------------------------------\u001b[0m",
      "\u001b[1;31mTypeError\u001b[0m                                 Traceback (most recent call last)",
      "\u001b[1;31mTypeError\u001b[0m: emptyFunction() takes no arguments (1 given)"
     ]
    },
    {
     "name": "stdout",
     "output_type": "stream",
     "text": [
      "(0, 1)\n",
      "(0, 1)\n",
      "(0, 1)\n",
      "(0, 1)\n",
      "(0, 1)\n",
      "(0, 1)\n",
      "(0, 1)\n",
      "(0, 1)\n",
      "(0, 1)\n",
      "(0, 1)\n",
      "(0, 1)\n",
      "(0, 1)\n",
      "(0, 1)\n",
      "(0, 1)\n",
      "(0, 1)\n",
      "(0, 1)\n"
     ]
    },
    {
     "ename": "TypeError",
     "evalue": "emptyFunction() takes no arguments (1 given)",
     "output_type": "error",
     "traceback": [
      "\u001b[1;31m---------------------------------------------------------------------------\u001b[0m",
      "\u001b[1;31mTypeError\u001b[0m                                 Traceback (most recent call last)",
      "\u001b[1;31mTypeError\u001b[0m: emptyFunction() takes no arguments (1 given)"
     ]
    },
    {
     "name": "stdout",
     "output_type": "stream",
     "text": [
      "(0, 1)\n",
      "(0, 1)\n",
      "(0, 1)\n",
      "(0, 1)\n",
      "(0, 1)\n",
      "(0, 1)\n",
      "(0, 1)\n",
      "(0, 1)\n",
      "(0, 1)\n",
      "(0, 1)\n",
      "(0, 1)\n",
      "(0, 1)\n",
      "(0, 1)\n",
      "(0, 1)\n",
      "(0, 1)\n",
      "(0, 1)\n",
      "(0, 1)\n",
      "(0, 1)\n",
      "(0, 1)\n",
      "(0, 1)\n",
      "(0, 1)\n",
      "(0, 1)\n",
      "(0, 1)\n",
      "(0, 1)\n",
      "(0, 1)\n",
      "(0, 1)\n",
      "(0, 1)\n",
      "(0, 1)\n",
      "(0, 1)\n",
      "(0, 1)\n",
      "(0, 1)\n",
      "(0, 1)\n",
      "(0, 1)\n",
      "(0, 1)\n",
      "(0, 1)\n",
      "(0, 1)\n",
      "(0, 1)\n",
      "(0, 1)\n",
      "(0, 1)\n",
      "(0, 1)\n",
      "(0, 1)\n",
      "(0, 1)\n",
      "(0, 1)\n",
      "(0, 1)\n",
      "(0, 1)\n",
      "(0, 1)\n",
      "(0, 1)\n",
      "(0, 1)\n",
      "(0, 1)\n",
      "(0, 1)\n",
      "(0, 1)\n",
      "(0, 1)\n",
      "(0, 1)\n",
      "(0, 1)\n",
      "(0, 1)\n",
      "(0, 1)\n",
      "(0, 1)\n",
      "(0, 1)\n",
      "(0, 1)\n",
      "(0, 1)\n",
      "(0, 1)\n",
      "(0, 1)\n",
      "(0, 1)\n",
      "(0, 1)\n",
      "(0, 1)\n",
      "(0, 1)\n",
      "(0, 1)\n",
      "(0, 1)\n",
      "(0, 1)\n",
      "(0, 1)\n",
      "(0, 1)\n",
      "(0, 1)\n",
      "(0, 1)\n",
      "(0, 1)\n",
      "(0, 1)\n",
      "(0, 1)\n",
      "(0, 1)\n",
      "(0, 1)\n",
      "(0, 1)\n",
      "(0, 1)\n",
      "(0, 1)\n",
      "(0, 1)\n",
      "(0, 1)\n",
      "(0, 1)\n",
      "(0, 1)\n",
      "(0, 1)\n",
      "(0, 1)\n",
      "(0, 1)\n",
      "(0, 1)\n",
      "(0, 1)\n",
      "(0, 1)\n",
      "(0, 1)\n",
      "(0, 1)\n",
      "(0, 1)\n",
      "(0, 1)\n",
      "(0, 1)\n",
      "(0, 1)\n",
      "(0, 1)\n",
      "(0, 1)\n",
      "(0, 1)\n",
      "(0, 1)\n",
      "(0, 1)\n",
      "(0, 1)\n",
      "(0, 1)\n",
      "(0, 1)\n",
      "(0, 1)\n"
     ]
    },
    {
     "ename": "TypeError",
     "evalue": "emptyFunction() takes no arguments (1 given)",
     "output_type": "error",
     "traceback": [
      "\u001b[1;31m---------------------------------------------------------------------------\u001b[0m",
      "\u001b[1;31mTypeError\u001b[0m                                 Traceback (most recent call last)",
      "\u001b[1;31mTypeError\u001b[0m: emptyFunction() takes no arguments (1 given)"
     ]
    },
    {
     "name": "stdout",
     "output_type": "stream",
     "text": [
      "(0, 1)\n"
     ]
    },
    {
     "ename": "TypeError",
     "evalue": "emptyFunction() takes no arguments (1 given)",
     "output_type": "error",
     "traceback": [
      "\u001b[1;31m---------------------------------------------------------------------------\u001b[0m",
      "\u001b[1;31mTypeError\u001b[0m                                 Traceback (most recent call last)",
      "\u001b[1;31mTypeError\u001b[0m: emptyFunction() takes no arguments (1 given)"
     ]
    },
    {
     "ename": "TypeError",
     "evalue": "emptyFunction() takes no arguments (1 given)",
     "output_type": "error",
     "traceback": [
      "\u001b[1;31m---------------------------------------------------------------------------\u001b[0m",
      "\u001b[1;31mTypeError\u001b[0m                                 Traceback (most recent call last)",
      "\u001b[1;31mTypeError\u001b[0m: emptyFunction() takes no arguments (1 given)"
     ]
    },
    {
     "name": "stdout",
     "output_type": "stream",
     "text": [
      "(0, 1)\n"
     ]
    },
    {
     "ename": "TypeError",
     "evalue": "emptyFunction() takes no arguments (1 given)",
     "output_type": "error",
     "traceback": [
      "\u001b[1;31m---------------------------------------------------------------------------\u001b[0m",
      "\u001b[1;31mTypeError\u001b[0m                                 Traceback (most recent call last)",
      "\u001b[1;31mTypeError\u001b[0m: emptyFunction() takes no arguments (1 given)"
     ]
    },
    {
     "ename": "TypeError",
     "evalue": "emptyFunction() takes no arguments (1 given)",
     "output_type": "error",
     "traceback": [
      "\u001b[1;31m---------------------------------------------------------------------------\u001b[0m",
      "\u001b[1;31mTypeError\u001b[0m                                 Traceback (most recent call last)",
      "\u001b[1;31mTypeError\u001b[0m: emptyFunction() takes no arguments (1 given)"
     ]
    },
    {
     "name": "stdout",
     "output_type": "stream",
     "text": [
      "(0, 1)\n"
     ]
    },
    {
     "ename": "TypeError",
     "evalue": "emptyFunction() takes no arguments (1 given)",
     "output_type": "error",
     "traceback": [
      "\u001b[1;31m---------------------------------------------------------------------------\u001b[0m",
      "\u001b[1;31mTypeError\u001b[0m                                 Traceback (most recent call last)",
      "\u001b[1;31mTypeError\u001b[0m: emptyFunction() takes no arguments (1 given)"
     ]
    },
    {
     "ename": "TypeError",
     "evalue": "emptyFunction() takes no arguments (1 given)",
     "output_type": "error",
     "traceback": [
      "\u001b[1;31m---------------------------------------------------------------------------\u001b[0m",
      "\u001b[1;31mTypeError\u001b[0m                                 Traceback (most recent call last)",
      "\u001b[1;31mTypeError\u001b[0m: emptyFunction() takes no arguments (1 given)"
     ]
    },
    {
     "name": "stdout",
     "output_type": "stream",
     "text": [
      "(0, 1)\n"
     ]
    },
    {
     "ename": "TypeError",
     "evalue": "emptyFunction() takes no arguments (1 given)",
     "output_type": "error",
     "traceback": [
      "\u001b[1;31m---------------------------------------------------------------------------\u001b[0m",
      "\u001b[1;31mTypeError\u001b[0m                                 Traceback (most recent call last)",
      "\u001b[1;31mTypeError\u001b[0m: emptyFunction() takes no arguments (1 given)"
     ]
    },
    {
     "ename": "TypeError",
     "evalue": "emptyFunction() takes no arguments (1 given)",
     "output_type": "error",
     "traceback": [
      "\u001b[1;31m---------------------------------------------------------------------------\u001b[0m",
      "\u001b[1;31mTypeError\u001b[0m                                 Traceback (most recent call last)",
      "\u001b[1;31mTypeError\u001b[0m: emptyFunction() takes no arguments (1 given)"
     ]
    },
    {
     "name": "stdout",
     "output_type": "stream",
     "text": [
      "(0, 1)\n"
     ]
    },
    {
     "ename": "TypeError",
     "evalue": "emptyFunction() takes no arguments (1 given)",
     "output_type": "error",
     "traceback": [
      "\u001b[1;31m---------------------------------------------------------------------------\u001b[0m",
      "\u001b[1;31mTypeError\u001b[0m                                 Traceback (most recent call last)",
      "\u001b[1;31mTypeError\u001b[0m: emptyFunction() takes no arguments (1 given)"
     ]
    },
    {
     "ename": "TypeError",
     "evalue": "emptyFunction() takes no arguments (1 given)",
     "output_type": "error",
     "traceback": [
      "\u001b[1;31m---------------------------------------------------------------------------\u001b[0m",
      "\u001b[1;31mTypeError\u001b[0m                                 Traceback (most recent call last)",
      "\u001b[1;31mTypeError\u001b[0m: emptyFunction() takes no arguments (1 given)"
     ]
    },
    {
     "name": "stdout",
     "output_type": "stream",
     "text": [
      "(0, 1)\n"
     ]
    },
    {
     "ename": "TypeError",
     "evalue": "emptyFunction() takes no arguments (1 given)",
     "output_type": "error",
     "traceback": [
      "\u001b[1;31m---------------------------------------------------------------------------\u001b[0m",
      "\u001b[1;31mTypeError\u001b[0m                                 Traceback (most recent call last)",
      "\u001b[1;31mTypeError\u001b[0m: emptyFunction() takes no arguments (1 given)"
     ]
    },
    {
     "ename": "TypeError",
     "evalue": "emptyFunction() takes no arguments (1 given)",
     "output_type": "error",
     "traceback": [
      "\u001b[1;31m---------------------------------------------------------------------------\u001b[0m",
      "\u001b[1;31mTypeError\u001b[0m                                 Traceback (most recent call last)",
      "\u001b[1;31mTypeError\u001b[0m: emptyFunction() takes no arguments (1 given)"
     ]
    },
    {
     "name": "stdout",
     "output_type": "stream",
     "text": [
      "(0, 1)\n"
     ]
    },
    {
     "ename": "TypeError",
     "evalue": "emptyFunction() takes no arguments (1 given)",
     "output_type": "error",
     "traceback": [
      "\u001b[1;31m---------------------------------------------------------------------------\u001b[0m",
      "\u001b[1;31mTypeError\u001b[0m                                 Traceback (most recent call last)",
      "\u001b[1;31mTypeError\u001b[0m: emptyFunction() takes no arguments (1 given)"
     ]
    },
    {
     "name": "stdout",
     "output_type": "stream",
     "text": [
      "(0, 1)\n"
     ]
    },
    {
     "ename": "TypeError",
     "evalue": "emptyFunction() takes no arguments (1 given)",
     "output_type": "error",
     "traceback": [
      "\u001b[1;31m---------------------------------------------------------------------------\u001b[0m",
      "\u001b[1;31mTypeError\u001b[0m                                 Traceback (most recent call last)",
      "\u001b[1;31mTypeError\u001b[0m: emptyFunction() takes no arguments (1 given)"
     ]
    },
    {
     "ename": "TypeError",
     "evalue": "emptyFunction() takes no arguments (1 given)",
     "output_type": "error",
     "traceback": [
      "\u001b[1;31m---------------------------------------------------------------------------\u001b[0m",
      "\u001b[1;31mTypeError\u001b[0m                                 Traceback (most recent call last)",
      "\u001b[1;31mTypeError\u001b[0m: emptyFunction() takes no arguments (1 given)"
     ]
    },
    {
     "name": "stdout",
     "output_type": "stream",
     "text": [
      "(0, 1)\n"
     ]
    },
    {
     "ename": "TypeError",
     "evalue": "emptyFunction() takes no arguments (1 given)",
     "output_type": "error",
     "traceback": [
      "\u001b[1;31m---------------------------------------------------------------------------\u001b[0m",
      "\u001b[1;31mTypeError\u001b[0m                                 Traceback (most recent call last)",
      "\u001b[1;31mTypeError\u001b[0m: emptyFunction() takes no arguments (1 given)"
     ]
    },
    {
     "ename": "TypeError",
     "evalue": "emptyFunction() takes no arguments (1 given)",
     "output_type": "error",
     "traceback": [
      "\u001b[1;31m---------------------------------------------------------------------------\u001b[0m",
      "\u001b[1;31mTypeError\u001b[0m                                 Traceback (most recent call last)",
      "\u001b[1;31mTypeError\u001b[0m: emptyFunction() takes no arguments (1 given)"
     ]
    },
    {
     "name": "stdout",
     "output_type": "stream",
     "text": [
      "(0, 1)\n"
     ]
    },
    {
     "ename": "TypeError",
     "evalue": "emptyFunction() takes no arguments (1 given)",
     "output_type": "error",
     "traceback": [
      "\u001b[1;31m---------------------------------------------------------------------------\u001b[0m",
      "\u001b[1;31mTypeError\u001b[0m                                 Traceback (most recent call last)",
      "\u001b[1;31mTypeError\u001b[0m: emptyFunction() takes no arguments (1 given)"
     ]
    },
    {
     "ename": "TypeError",
     "evalue": "emptyFunction() takes no arguments (1 given)",
     "output_type": "error",
     "traceback": [
      "\u001b[1;31m---------------------------------------------------------------------------\u001b[0m",
      "\u001b[1;31mTypeError\u001b[0m                                 Traceback (most recent call last)",
      "\u001b[1;31mTypeError\u001b[0m: emptyFunction() takes no arguments (1 given)"
     ]
    },
    {
     "name": "stdout",
     "output_type": "stream",
     "text": [
      "(0, 1)\n"
     ]
    },
    {
     "ename": "TypeError",
     "evalue": "emptyFunction() takes no arguments (1 given)",
     "output_type": "error",
     "traceback": [
      "\u001b[1;31m---------------------------------------------------------------------------\u001b[0m",
      "\u001b[1;31mTypeError\u001b[0m                                 Traceback (most recent call last)",
      "\u001b[1;31mTypeError\u001b[0m: emptyFunction() takes no arguments (1 given)"
     ]
    },
    {
     "ename": "TypeError",
     "evalue": "emptyFunction() takes no arguments (1 given)",
     "output_type": "error",
     "traceback": [
      "\u001b[1;31m---------------------------------------------------------------------------\u001b[0m",
      "\u001b[1;31mTypeError\u001b[0m                                 Traceback (most recent call last)",
      "\u001b[1;31mTypeError\u001b[0m: emptyFunction() takes no arguments (1 given)"
     ]
    },
    {
     "name": "stdout",
     "output_type": "stream",
     "text": [
      "(0, 1)\n"
     ]
    },
    {
     "ename": "TypeError",
     "evalue": "emptyFunction() takes no arguments (1 given)",
     "output_type": "error",
     "traceback": [
      "\u001b[1;31m---------------------------------------------------------------------------\u001b[0m",
      "\u001b[1;31mTypeError\u001b[0m                                 Traceback (most recent call last)",
      "\u001b[1;31mTypeError\u001b[0m: emptyFunction() takes no arguments (1 given)"
     ]
    },
    {
     "ename": "TypeError",
     "evalue": "emptyFunction() takes no arguments (1 given)",
     "output_type": "error",
     "traceback": [
      "\u001b[1;31m---------------------------------------------------------------------------\u001b[0m",
      "\u001b[1;31mTypeError\u001b[0m                                 Traceback (most recent call last)",
      "\u001b[1;31mTypeError\u001b[0m: emptyFunction() takes no arguments (1 given)"
     ]
    },
    {
     "name": "stdout",
     "output_type": "stream",
     "text": [
      "(0, 1)\n",
      "(0, 1)\n"
     ]
    },
    {
     "ename": "TypeError",
     "evalue": "emptyFunction() takes no arguments (1 given)",
     "output_type": "error",
     "traceback": [
      "\u001b[1;31m---------------------------------------------------------------------------\u001b[0m",
      "\u001b[1;31mTypeError\u001b[0m                                 Traceback (most recent call last)",
      "\u001b[1;31mTypeError\u001b[0m: emptyFunction() takes no arguments (1 given)"
     ]
    },
    {
     "name": "stdout",
     "output_type": "stream",
     "text": [
      "(0, 1)\n"
     ]
    },
    {
     "ename": "TypeError",
     "evalue": "emptyFunction() takes no arguments (1 given)",
     "output_type": "error",
     "traceback": [
      "\u001b[1;31m---------------------------------------------------------------------------\u001b[0m",
      "\u001b[1;31mTypeError\u001b[0m                                 Traceback (most recent call last)",
      "\u001b[1;31mTypeError\u001b[0m: emptyFunction() takes no arguments (1 given)"
     ]
    },
    {
     "name": "stdout",
     "output_type": "stream",
     "text": [
      "(0, 1)\n"
     ]
    },
    {
     "ename": "TypeError",
     "evalue": "emptyFunction() takes no arguments (1 given)",
     "output_type": "error",
     "traceback": [
      "\u001b[1;31m---------------------------------------------------------------------------\u001b[0m",
      "\u001b[1;31mTypeError\u001b[0m                                 Traceback (most recent call last)",
      "\u001b[1;31mTypeError\u001b[0m: emptyFunction() takes no arguments (1 given)"
     ]
    },
    {
     "ename": "TypeError",
     "evalue": "emptyFunction() takes no arguments (1 given)",
     "output_type": "error",
     "traceback": [
      "\u001b[1;31m---------------------------------------------------------------------------\u001b[0m",
      "\u001b[1;31mTypeError\u001b[0m                                 Traceback (most recent call last)",
      "\u001b[1;31mTypeError\u001b[0m: emptyFunction() takes no arguments (1 given)"
     ]
    },
    {
     "name": "stdout",
     "output_type": "stream",
     "text": [
      "(0, 1)\n"
     ]
    },
    {
     "ename": "TypeError",
     "evalue": "emptyFunction() takes no arguments (1 given)",
     "output_type": "error",
     "traceback": [
      "\u001b[1;31m---------------------------------------------------------------------------\u001b[0m",
      "\u001b[1;31mTypeError\u001b[0m                                 Traceback (most recent call last)",
      "\u001b[1;31mTypeError\u001b[0m: emptyFunction() takes no arguments (1 given)"
     ]
    },
    {
     "ename": "TypeError",
     "evalue": "emptyFunction() takes no arguments (1 given)",
     "output_type": "error",
     "traceback": [
      "\u001b[1;31m---------------------------------------------------------------------------\u001b[0m",
      "\u001b[1;31mTypeError\u001b[0m                                 Traceback (most recent call last)",
      "\u001b[1;31mTypeError\u001b[0m: emptyFunction() takes no arguments (1 given)"
     ]
    },
    {
     "name": "stdout",
     "output_type": "stream",
     "text": [
      "(0, 1)\n"
     ]
    },
    {
     "ename": "TypeError",
     "evalue": "emptyFunction() takes no arguments (1 given)",
     "output_type": "error",
     "traceback": [
      "\u001b[1;31m---------------------------------------------------------------------------\u001b[0m",
      "\u001b[1;31mTypeError\u001b[0m                                 Traceback (most recent call last)",
      "\u001b[1;31mTypeError\u001b[0m: emptyFunction() takes no arguments (1 given)"
     ]
    },
    {
     "ename": "TypeError",
     "evalue": "emptyFunction() takes no arguments (1 given)",
     "output_type": "error",
     "traceback": [
      "\u001b[1;31m---------------------------------------------------------------------------\u001b[0m",
      "\u001b[1;31mTypeError\u001b[0m                                 Traceback (most recent call last)",
      "\u001b[1;31mTypeError\u001b[0m: emptyFunction() takes no arguments (1 given)"
     ]
    },
    {
     "name": "stdout",
     "output_type": "stream",
     "text": [
      "(0, 1)\n"
     ]
    },
    {
     "ename": "TypeError",
     "evalue": "emptyFunction() takes no arguments (1 given)",
     "output_type": "error",
     "traceback": [
      "\u001b[1;31m---------------------------------------------------------------------------\u001b[0m",
      "\u001b[1;31mTypeError\u001b[0m                                 Traceback (most recent call last)",
      "\u001b[1;31mTypeError\u001b[0m: emptyFunction() takes no arguments (1 given)"
     ]
    },
    {
     "ename": "TypeError",
     "evalue": "emptyFunction() takes no arguments (1 given)",
     "output_type": "error",
     "traceback": [
      "\u001b[1;31m---------------------------------------------------------------------------\u001b[0m",
      "\u001b[1;31mTypeError\u001b[0m                                 Traceback (most recent call last)",
      "\u001b[1;31mTypeError\u001b[0m: emptyFunction() takes no arguments (1 given)"
     ]
    },
    {
     "name": "stdout",
     "output_type": "stream",
     "text": [
      "(0, 1)\n"
     ]
    },
    {
     "ename": "TypeError",
     "evalue": "emptyFunction() takes no arguments (1 given)",
     "output_type": "error",
     "traceback": [
      "\u001b[1;31m---------------------------------------------------------------------------\u001b[0m",
      "\u001b[1;31mTypeError\u001b[0m                                 Traceback (most recent call last)",
      "\u001b[1;31mTypeError\u001b[0m: emptyFunction() takes no arguments (1 given)"
     ]
    },
    {
     "ename": "TypeError",
     "evalue": "emptyFunction() takes no arguments (1 given)",
     "output_type": "error",
     "traceback": [
      "\u001b[1;31m---------------------------------------------------------------------------\u001b[0m",
      "\u001b[1;31mTypeError\u001b[0m                                 Traceback (most recent call last)",
      "\u001b[1;31mTypeError\u001b[0m: emptyFunction() takes no arguments (1 given)"
     ]
    },
    {
     "name": "stdout",
     "output_type": "stream",
     "text": [
      "(0, 1)\n"
     ]
    },
    {
     "ename": "TypeError",
     "evalue": "emptyFunction() takes no arguments (1 given)",
     "output_type": "error",
     "traceback": [
      "\u001b[1;31m---------------------------------------------------------------------------\u001b[0m",
      "\u001b[1;31mTypeError\u001b[0m                                 Traceback (most recent call last)",
      "\u001b[1;31mTypeError\u001b[0m: emptyFunction() takes no arguments (1 given)"
     ]
    },
    {
     "ename": "TypeError",
     "evalue": "emptyFunction() takes no arguments (1 given)",
     "output_type": "error",
     "traceback": [
      "\u001b[1;31m---------------------------------------------------------------------------\u001b[0m",
      "\u001b[1;31mTypeError\u001b[0m                                 Traceback (most recent call last)",
      "\u001b[1;31mTypeError\u001b[0m: emptyFunction() takes no arguments (1 given)"
     ]
    },
    {
     "name": "stdout",
     "output_type": "stream",
     "text": [
      "(0, 1)\n"
     ]
    },
    {
     "ename": "TypeError",
     "evalue": "emptyFunction() takes no arguments (1 given)",
     "output_type": "error",
     "traceback": [
      "\u001b[1;31m---------------------------------------------------------------------------\u001b[0m",
      "\u001b[1;31mTypeError\u001b[0m                                 Traceback (most recent call last)",
      "\u001b[1;31mTypeError\u001b[0m: emptyFunction() takes no arguments (1 given)"
     ]
    },
    {
     "name": "stdout",
     "output_type": "stream",
     "text": [
      "(0, 1)\n"
     ]
    },
    {
     "ename": "TypeError",
     "evalue": "emptyFunction() takes no arguments (1 given)",
     "output_type": "error",
     "traceback": [
      "\u001b[1;31m---------------------------------------------------------------------------\u001b[0m",
      "\u001b[1;31mTypeError\u001b[0m                                 Traceback (most recent call last)",
      "\u001b[1;31mTypeError\u001b[0m: emptyFunction() takes no arguments (1 given)"
     ]
    },
    {
     "name": "stdout",
     "output_type": "stream",
     "text": [
      "(0, 1)\n",
      "(0, 1)\n"
     ]
    },
    {
     "ename": "TypeError",
     "evalue": "emptyFunction() takes no arguments (1 given)",
     "output_type": "error",
     "traceback": [
      "\u001b[1;31m---------------------------------------------------------------------------\u001b[0m",
      "\u001b[1;31mTypeError\u001b[0m                                 Traceback (most recent call last)",
      "\u001b[1;31mTypeError\u001b[0m: emptyFunction() takes no arguments (1 given)"
     ]
    },
    {
     "name": "stdout",
     "output_type": "stream",
     "text": [
      "(0, 1)\n",
      "(0, 1)\n",
      "(0, 1)\n",
      "(0, 1)\n",
      "(0, 1)\n",
      "(0, 1)\n",
      "(0, 1)\n"
     ]
    },
    {
     "ename": "TypeError",
     "evalue": "emptyFunction() takes no arguments (1 given)",
     "output_type": "error",
     "traceback": [
      "\u001b[1;31m---------------------------------------------------------------------------\u001b[0m",
      "\u001b[1;31mTypeError\u001b[0m                                 Traceback (most recent call last)",
      "\u001b[1;31mTypeError\u001b[0m: emptyFunction() takes no arguments (1 given)"
     ]
    },
    {
     "name": "stdout",
     "output_type": "stream",
     "text": [
      "(0, 1)\n",
      "(0, 1)\n",
      "(0, 1)\n",
      "(0, 1)\n",
      "(0, 1)\n",
      "(0, 1)\n"
     ]
    },
    {
     "ename": "TypeError",
     "evalue": "emptyFunction() takes no arguments (1 given)",
     "output_type": "error",
     "traceback": [
      "\u001b[1;31m---------------------------------------------------------------------------\u001b[0m",
      "\u001b[1;31mTypeError\u001b[0m                                 Traceback (most recent call last)",
      "\u001b[1;31mTypeError\u001b[0m: emptyFunction() takes no arguments (1 given)"
     ]
    },
    {
     "name": "stdout",
     "output_type": "stream",
     "text": [
      "(0, 1)\n",
      "(0, 1)\n",
      "(0, 1)\n",
      "(0, 1)\n"
     ]
    },
    {
     "ename": "TypeError",
     "evalue": "emptyFunction() takes no arguments (1 given)",
     "output_type": "error",
     "traceback": [
      "\u001b[1;31m---------------------------------------------------------------------------\u001b[0m",
      "\u001b[1;31mTypeError\u001b[0m                                 Traceback (most recent call last)",
      "\u001b[1;31mTypeError\u001b[0m: emptyFunction() takes no arguments (1 given)"
     ]
    },
    {
     "name": "stdout",
     "output_type": "stream",
     "text": [
      "(0, 1)\n",
      "(0, 1)\n",
      "(0, 1)\n",
      "(0, 1)\n",
      "(0, 1)\n"
     ]
    },
    {
     "ename": "TypeError",
     "evalue": "emptyFunction() takes no arguments (1 given)",
     "output_type": "error",
     "traceback": [
      "\u001b[1;31m---------------------------------------------------------------------------\u001b[0m",
      "\u001b[1;31mTypeError\u001b[0m                                 Traceback (most recent call last)",
      "\u001b[1;31mTypeError\u001b[0m: emptyFunction() takes no arguments (1 given)"
     ]
    },
    {
     "name": "stdout",
     "output_type": "stream",
     "text": [
      "(0, 1)\n"
     ]
    },
    {
     "ename": "TypeError",
     "evalue": "emptyFunction() takes no arguments (1 given)",
     "output_type": "error",
     "traceback": [
      "\u001b[1;31m---------------------------------------------------------------------------\u001b[0m",
      "\u001b[1;31mTypeError\u001b[0m                                 Traceback (most recent call last)",
      "\u001b[1;31mTypeError\u001b[0m: emptyFunction() takes no arguments (1 given)"
     ]
    },
    {
     "name": "stdout",
     "output_type": "stream",
     "text": [
      "(0, 1)\n"
     ]
    },
    {
     "ename": "TypeError",
     "evalue": "emptyFunction() takes no arguments (1 given)",
     "output_type": "error",
     "traceback": [
      "\u001b[1;31m---------------------------------------------------------------------------\u001b[0m",
      "\u001b[1;31mTypeError\u001b[0m                                 Traceback (most recent call last)",
      "\u001b[1;31mTypeError\u001b[0m: emptyFunction() takes no arguments (1 given)"
     ]
    },
    {
     "name": "stdout",
     "output_type": "stream",
     "text": [
      "(0, 1)\n"
     ]
    },
    {
     "ename": "TypeError",
     "evalue": "emptyFunction() takes no arguments (1 given)",
     "output_type": "error",
     "traceback": [
      "\u001b[1;31m---------------------------------------------------------------------------\u001b[0m",
      "\u001b[1;31mTypeError\u001b[0m                                 Traceback (most recent call last)",
      "\u001b[1;31mTypeError\u001b[0m: emptyFunction() takes no arguments (1 given)"
     ]
    },
    {
     "name": "stdout",
     "output_type": "stream",
     "text": [
      "(0, 1)\n"
     ]
    },
    {
     "ename": "TypeError",
     "evalue": "emptyFunction() takes no arguments (1 given)",
     "output_type": "error",
     "traceback": [
      "\u001b[1;31m---------------------------------------------------------------------------\u001b[0m",
      "\u001b[1;31mTypeError\u001b[0m                                 Traceback (most recent call last)",
      "\u001b[1;31mTypeError\u001b[0m: emptyFunction() takes no arguments (1 given)"
     ]
    },
    {
     "ename": "TypeError",
     "evalue": "emptyFunction() takes no arguments (1 given)",
     "output_type": "error",
     "traceback": [
      "\u001b[1;31m---------------------------------------------------------------------------\u001b[0m",
      "\u001b[1;31mTypeError\u001b[0m                                 Traceback (most recent call last)",
      "\u001b[1;31mTypeError\u001b[0m: emptyFunction() takes no arguments (1 given)"
     ]
    },
    {
     "name": "stdout",
     "output_type": "stream",
     "text": [
      "(0, 1)\n"
     ]
    },
    {
     "ename": "TypeError",
     "evalue": "emptyFunction() takes no arguments (1 given)",
     "output_type": "error",
     "traceback": [
      "\u001b[1;31m---------------------------------------------------------------------------\u001b[0m",
      "\u001b[1;31mTypeError\u001b[0m                                 Traceback (most recent call last)",
      "\u001b[1;31mTypeError\u001b[0m: emptyFunction() takes no arguments (1 given)"
     ]
    },
    {
     "name": "stdout",
     "output_type": "stream",
     "text": [
      "(0, 1)\n"
     ]
    },
    {
     "ename": "TypeError",
     "evalue": "emptyFunction() takes no arguments (1 given)",
     "output_type": "error",
     "traceback": [
      "\u001b[1;31m---------------------------------------------------------------------------\u001b[0m",
      "\u001b[1;31mTypeError\u001b[0m                                 Traceback (most recent call last)",
      "\u001b[1;31mTypeError\u001b[0m: emptyFunction() takes no arguments (1 given)"
     ]
    },
    {
     "name": "stdout",
     "output_type": "stream",
     "text": [
      "(0, 1)\n",
      "(0, 1)\n",
      "(0, 1)\n",
      "(0, 1)\n",
      "(0, 1)\n",
      "(0, 1)\n",
      "(0, 1)\n",
      "(0, 1)\n",
      "(0, 1)\n",
      "(0, 1)\n",
      "(0, 1)\n"
     ]
    },
    {
     "ename": "TypeError",
     "evalue": "emptyFunction() takes no arguments (1 given)",
     "output_type": "error",
     "traceback": [
      "\u001b[1;31m---------------------------------------------------------------------------\u001b[0m",
      "\u001b[1;31mTypeError\u001b[0m                                 Traceback (most recent call last)",
      "\u001b[1;31mTypeError\u001b[0m: emptyFunction() takes no arguments (1 given)"
     ]
    },
    {
     "name": "stdout",
     "output_type": "stream",
     "text": [
      "(0, 1)\n",
      "(0, 1)\n",
      "(0, 1)\n",
      "(0, 1)\n",
      "(0, 1)\n"
     ]
    },
    {
     "ename": "TypeError",
     "evalue": "emptyFunction() takes no arguments (1 given)",
     "output_type": "error",
     "traceback": [
      "\u001b[1;31m---------------------------------------------------------------------------\u001b[0m",
      "\u001b[1;31mTypeError\u001b[0m                                 Traceback (most recent call last)",
      "\u001b[1;31mTypeError\u001b[0m: emptyFunction() takes no arguments (1 given)"
     ]
    },
    {
     "name": "stdout",
     "output_type": "stream",
     "text": [
      "(1, 0)\n",
      "(1, 0)\n",
      "(1, 0)\n",
      "(1, 0)\n",
      "(1, 0)\n",
      "(1, 0)\n",
      "(1, 0)\n",
      "(1, 0)\n",
      "(1, 0)\n",
      "(1, 0)\n",
      "(1, 0)\n",
      "(1, 0)\n",
      "(1, 0)\n",
      "(1, 0)\n",
      "(1, 0)\n",
      "(1, 0)\n",
      "(1, 0)\n",
      "(1, 0)\n",
      "(1, 0)\n",
      "(1, 0)\n",
      "(1, 0)\n",
      "(1, 0)\n",
      "(1, 0)\n",
      "(1, 0)\n",
      "(1, 0)\n",
      "(1, 0)\n",
      "(1, 0)\n",
      "(1, 0)\n",
      "(1, 0)\n",
      "(1, 0)\n",
      "(1, 0)\n",
      "(1, 0)\n",
      "(1, 0)\n",
      "(1, 0)\n",
      "(1, 0)\n",
      "(1, 0)\n",
      "(1, 0)\n",
      "(1, 0)\n",
      "(1, 0)\n",
      "(1, 0)\n",
      "(1, 0)\n",
      "(1, 0)\n",
      "(1, 0)\n",
      "(1, 0)\n",
      "(1, 0)\n",
      "(1, 0)\n",
      "(1, 0)\n",
      "(1, 0)\n",
      "(1, 0)\n",
      "(1, 0)\n",
      "(1, 0)\n",
      "(1, 0)\n",
      "(1, 0)\n",
      "(1, 0)\n",
      "(1, 0)\n",
      "(1, 0)\n",
      "(1, 0)\n",
      "(1, 0)\n",
      "(1, 0)\n",
      "(1, 0)\n",
      "(1, 0)\n",
      "(1, 0)\n",
      "(1, 0)\n",
      "(1, 0)\n",
      "(1, 0)\n",
      "(1, 0)\n",
      "(1, 0)\n",
      "(1, 0)\n",
      "(1, 0)\n",
      "(1, 0)\n",
      "(1, 0)\n",
      "(1, 0)\n",
      "(1, 0)\n",
      "(1, 0)\n",
      "(1, 0)\n",
      "(1, 0)\n",
      "(1, 0)\n",
      "(1, 0)\n",
      "(1, 0)\n",
      "(1, 0)\n",
      "(1, 0)\n",
      "(1, 0)\n",
      "(1, 0)\n",
      "(1, 0)\n",
      "(1, 0)\n",
      "(1, 0)\n",
      "(1, 0)\n",
      "(1, 0)\n",
      "(1, 0)\n",
      "(1, 0)\n",
      "(1, 0)\n",
      "(1, 0)\n",
      "(1, 0)\n",
      "(1, 0)\n",
      "(1, 0)\n",
      "(1, 0)\n",
      "(1, 0)\n",
      "(1, 0)\n",
      "(1, 0)\n",
      "(1, 0)\n",
      "(1, 0)\n",
      "(1, 0)\n",
      "(1, 0)\n",
      "(1, 0)\n",
      "(1, 0)\n",
      "(1, 0)\n",
      "(1, 0)\n",
      "(1, 0)\n",
      "(1, 0)\n",
      "(1, 0)\n",
      "(1, 0)\n",
      "(1, 0)\n",
      "(1, 0)\n",
      "(1, 0)\n",
      "(1, 0)\n",
      "(1, 0)\n",
      "(1, 0)\n",
      "(1, 0)\n",
      "(1, 0)\n",
      "(1, 0)\n",
      "(1, 0)\n",
      "(1, 0)\n",
      "(1, 0)\n",
      "(1, 0)\n",
      "(1, 0)\n",
      "(1, 0)\n",
      "(1, 0)\n",
      "(1, 0)\n",
      "(1, 0)\n",
      "(1, 0)\n",
      "(1, 0)\n",
      "(1, 0)\n",
      "(1, 0)\n",
      "(1, 0)\n",
      "(1, 0)\n",
      "(1, 0)\n",
      "(1, 0)\n",
      "(1, 0)\n",
      "(1, 0)\n",
      "(1, 0)\n",
      "(1, 0)\n",
      "(1, 0)\n",
      "(1, 0)\n",
      "(1, 0)\n",
      "(1, 0)\n",
      "(1, 0)\n",
      "(1, 0)\n",
      "(1, 0)\n",
      "(1, 0)\n",
      "(1, 0)\n",
      "(1, 0)\n",
      "(1, 0)\n",
      "(1, 0)\n",
      "(1, 0)\n",
      "(1, 0)\n",
      "(1, 0)\n",
      "(1, 0)\n",
      "(1, 0)\n",
      "(1, 0)\n",
      "(1, 0)\n",
      "(1, 0)\n",
      "(1, 0)\n",
      "(1, 0)\n",
      "(1, 0)\n",
      "(1, 0)\n",
      "(1, 0)\n",
      "(1, 0)\n",
      "(1, 0)\n",
      "(1, 0)\n",
      "(1, 0)\n",
      "(1, 0)\n",
      "(1, 0)\n",
      "(1, 0)\n",
      "(1, 0)\n",
      "(1, 0)\n",
      "(1, 0)\n",
      "(1, 0)\n",
      "(1, 0)\n",
      "(1, 0)\n",
      "(1, 0)\n",
      "(1, 0)\n",
      "(1, 0)\n",
      "(1, 0)\n",
      "(1, 0)\n",
      "(1, 0)\n",
      "(1, 0)\n",
      "(1, 0)\n",
      "(1, 0)\n",
      "(1, 0)\n",
      "(1, 0)\n",
      "(1, 0)\n",
      "(1, 0)\n",
      "(1, 0)\n",
      "(1, 0)\n",
      "(1, 0)\n",
      "(1, 0)\n",
      "(1, 0)\n",
      "(1, 0)\n",
      "(1, 0)\n",
      "(1, 0)\n",
      "(1, 0)\n",
      "(1, 0)\n",
      "(1, 0)\n",
      "(1, 0)\n",
      "(1, 0)\n",
      "(1, 0)\n",
      "(1, 0)\n",
      "(1, 0)\n",
      "(1, 0)\n",
      "(1, 0)\n",
      "(1, 0)\n",
      "(1, 0)\n",
      "(1, 0)\n",
      "(1, 0)\n",
      "(1, 0)\n",
      "(1, 0)\n",
      "(1, 0)\n",
      "(1, 0)\n",
      "(1, 0)\n",
      "(1, 0)\n",
      "(1, 0)\n",
      "(1, 0)\n",
      "(1, 0)\n",
      "(1, 0)\n",
      "(1, 0)\n",
      "(1, 0)\n",
      "(1, 0)\n",
      "(1, 0)\n",
      "(1, 0)\n",
      "(1, 0)\n",
      "(1, 0)\n",
      "(1, 0)\n",
      "(1, 0)\n",
      "(1, 0)\n",
      "(1, 0)\n",
      "(1, 0)\n",
      "(1, 0)\n",
      "(1, 0)\n",
      "(1, 0)\n",
      "(1, 0)\n",
      "(1, 0)\n",
      "(1, 0)\n",
      "(1, 0)\n",
      "(1, 0)\n",
      "(1, 0)\n",
      "(1, 0)\n",
      "(1, 0)\n",
      "(1, 0)\n",
      "(1, 0)\n",
      "(1, 0)\n",
      "(1, 0)\n",
      "(1, 0)\n",
      "(1, 0)\n",
      "(1, 0)\n",
      "(1, 0)\n",
      "(1, 0)\n",
      "(1, 0)\n",
      "(1, 0)\n",
      "(1, 0)\n",
      "(1, 0)\n",
      "(1, 0)\n",
      "(1, 0)\n",
      "(1, 0)\n",
      "(1, 0)\n",
      "(1, 0)\n",
      "(1, 0)\n",
      "(1, 0)\n",
      "(1, 0)\n",
      "(1, 0)\n",
      "(1, 0)\n",
      "(1, 0)\n",
      "(1, 0)\n",
      "(1, 0)\n",
      "(1, 0)\n",
      "(1, 0)\n",
      "(1, 0)\n",
      "(1, 0)\n",
      "(1, 0)\n",
      "(1, 0)\n",
      "(1, 0)\n",
      "(1, 0)\n",
      "(1, 0)\n",
      "(1, 0)\n",
      "(1, 0)\n",
      "(1, 0)\n",
      "(1, 0)\n",
      "(1, 0)\n",
      "(1, 0)\n",
      "(1, 0)\n",
      "(1, 0)\n",
      "(1, 0)\n",
      "(1, 0)\n",
      "(1, 0)\n",
      "(1, 0)\n",
      "(1, 0)\n",
      "(1, 0)\n",
      "(1, 0)\n",
      "(1, 0)\n",
      "(1, 0)\n",
      "(1, 0)\n",
      "(1, 0)\n",
      "(1, 0)\n",
      "(1, 0)\n",
      "(1, 0)\n",
      "(1, 0)\n",
      "(1, 0)\n",
      "(1, 0)\n",
      "(1, 0)\n",
      "(1, 0)\n",
      "(1, 0)\n",
      "(1, 0)\n",
      "(1, 0)\n",
      "(1, 0)\n",
      "(1, 0)\n",
      "(1, 0)\n",
      "(1, 0)\n",
      "(1, 0)\n",
      "(1, 0)\n",
      "(1, 0)\n",
      "(1, 0)\n",
      "(1, 0)\n",
      "(1, 0)\n",
      "(1, 0)\n",
      "(1, 0)\n",
      "(1, 0)\n",
      "(1, 0)\n",
      "(1, 0)\n",
      "(1, 0)\n",
      "(1, 0)\n",
      "(1, 0)\n",
      "(1, 0)\n",
      "(1, 0)\n",
      "(1, 0)\n",
      "(1, 0)\n",
      "(1, 0)\n",
      "(1, 0)\n",
      "(1, 0)\n",
      "(1, 0)\n",
      "(1, 0)\n",
      "(1, 0)\n",
      "(1, 0)\n",
      "(1, 0)\n",
      "(1, 0)\n",
      "(1, 0)\n",
      "(1, 0)\n",
      "(1, 0)\n",
      "(1, 0)\n",
      "(1, 0)\n",
      "(1, 0)\n",
      "(1, 0)\n",
      "(1, 0)\n",
      "(1, 0)\n",
      "(1, 0)\n",
      "(1, 0)\n",
      "(1, 0)\n",
      "(1, 0)\n",
      "(1, 0)\n",
      "(1, 0)\n",
      "(1, 0)\n",
      "(1, 0)\n",
      "(1, 0)\n",
      "(1, 0)\n",
      "(1, 0)\n",
      "(1, 0)\n",
      "(1, 0)\n",
      "(1, 0)\n",
      "(1, 0)\n",
      "(1, 0)\n",
      "(1, 0)\n",
      "(1, 0)\n",
      "(1, 0)\n",
      "(1, 0)\n",
      "(1, 0)\n",
      "(1, 0)\n",
      "(1, 0)\n",
      "(1, 0)\n",
      "(1, 0)\n",
      "(1, 0)\n",
      "(1, 0)\n",
      "(1, 0)\n",
      "(1, 0)\n",
      "(1, 0)\n",
      "(1, 0)\n",
      "(1, 0)\n",
      "(1, 0)\n",
      "(1, 0)\n",
      "(1, 0)\n",
      "(1, 0)\n",
      "(1, 0)\n",
      "(1, 0)\n",
      "(1, 0)\n",
      "(1, 0)\n",
      "(1, 0)\n",
      "(1, 0)\n",
      "(1, 0)\n",
      "(1, 0)\n",
      "(1, 0)\n",
      "(1, 0)\n",
      "(1, 0)\n",
      "(1, 0)\n",
      "(1, 0)\n",
      "(1, 0)\n",
      "(1, 0)\n",
      "(1, 0)\n",
      "(1, 0)\n",
      "(1, 0)\n",
      "(1, 0)\n"
     ]
    }
   ],
   "source": [
    "#OpenCV Mini Project : Trackbar Image Blending App\n",
    "\n",
    "import numpy as np\n",
    "import time\n",
    "import cv2\n",
    "def emptyFunction():\n",
    "    pass\n",
    "def main():\n",
    "    \n",
    "    imgpath=\"C:\\\\Users\\\\DELL\\\\Desktop\\\\Machine Learning A-Z Template Folder\\\\misc\\\\\"\n",
    "    \n",
    "    imgpath1=imgpath+\"4.1.03.tiff\"\n",
    "    imgpath2=imgpath+\"4.1.04.tiff\"\n",
    "    \n",
    "    img1=cv2.imread(imgpath1,1)\n",
    "    img2=cv2.imread(imgpath2,1)\n",
    "    \n",
    "    output=cv2.addWeighted(img1,0.5,img2,0.5,0)\n",
    "    \n",
    "    windowName='Transition demo'\n",
    "    cv2.namedWindow(windowName)\n",
    "    \n",
    "    cv2.createTrackbar('Alpha',windowName,0,1000,emptyFunction)\n",
    "    \n",
    "    while (True):\n",
    "        cv2.imshow(windowName,output)\n",
    "        if cv2.waitKey(1)==27:\n",
    "            break\n",
    "        alpha=cv2.getTrackbarPos('Alpha',windowName)/1000\n",
    "        beta=1-alpha\n",
    "        \n",
    "        output=cv2.addWeighted(img1,alpha,img2,beta,0)\n",
    "        \n",
    "        print(alpha,beta)\n",
    "        \n",
    "    cv2.destroyAllWindows()  \n",
    "    \n",
    "if __name__=='__main__':\n",
    "    main()"
   ]
  },
  {
   "cell_type": "code",
   "execution_count": null,
   "metadata": {},
   "outputs": [],
   "source": []
  }
 ],
 "metadata": {
  "kernelspec": {
   "display_name": "Python 2",
   "language": "python",
   "name": "python2"
  },
  "language_info": {
   "codemirror_mode": {
    "name": "ipython",
    "version": 2
   },
   "file_extension": ".py",
   "mimetype": "text/x-python",
   "name": "python",
   "nbconvert_exporter": "python",
   "pygments_lexer": "ipython2",
   "version": "2.7.15"
  }
 },
 "nbformat": 4,
 "nbformat_minor": 2
}
