{
 "cells": [
  {
   "cell_type": "code",
   "execution_count": null,
   "metadata": {},
   "outputs": [],
   "source": [
    "#OpenCV BGR Color Palette\n",
    "import cv2\n",
    "import numpy as np\n",
    "def emptyFunction():\n",
    "    pass\n",
    "\n",
    "def main():\n",
    "    img1 =np.zeros((512,512,3),np.uint8)\n",
    "    windowName='OpenCV BGR Color Palette'\n",
    "    cv2.namedWindow(windowName)\n",
    "    \n",
    "    cv2.createTrackbar('B',windowName,0,255,emptyFunction) # 0,255 is range\n",
    "    cv2.createTrackbar('G',windowName,0,255,emptyFunction)\n",
    "    cv2.createTrackbar('R',windowName,0,255,emptyFunction)\n",
    "    \n",
    "    while(True):\n",
    "        cv2.imshow(windowName,img1)\n",
    "        \n",
    "        if cv2.waitKey(1) == 27:\n",
    "            break\n",
    "            \n",
    "        blue=cv2.getTrackbarPos('B',windowName)\n",
    "        green=cv2.getTrackbarPos('G',windowName)\n",
    "        red=cv2.getTrackbarPos('R',windowName)\n",
    "        \n",
    "        img1[:]=[blue,green,red]\n",
    "      #  print(blue,green,red)\n",
    "        \n",
    "    cv2.destroyAllWindows()\n",
    "if __name__=='__main__':\n",
    "    main()\n",
    "     "
   ]
  }
 ],
 "metadata": {
  "kernelspec": {
   "display_name": "Python 2",
   "language": "python",
   "name": "python2"
  },
  "language_info": {
   "codemirror_mode": {
    "name": "ipython",
    "version": 2
   },
   "file_extension": ".py",
   "mimetype": "text/x-python",
   "name": "python",
   "nbconvert_exporter": "python",
   "pygments_lexer": "ipython2",
   "version": "2.7.15"
  }
 },
 "nbformat": 4,
 "nbformat_minor": 2
}
