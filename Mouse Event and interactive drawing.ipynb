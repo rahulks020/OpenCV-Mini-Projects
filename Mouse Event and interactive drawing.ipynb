{
 "cells": [
  {
   "cell_type": "code",
   "execution_count": null,
   "metadata": {},
   "outputs": [],
   "source": [
    "import cv2\n",
    "import numpy as np\n",
    "\n",
    "\n",
    "\n",
    "\n",
    "img1 =np.zeros((512,512,3),np.uint8)\n",
    "windowName='drawing_demo'\n",
    "cv2.namedWindow(windowName)\n",
    "\n",
    "drawing =False\n",
    "\n",
    "mode =True\n",
    "(ix,iy)=(-1,-1)\n",
    "\n",
    "def draw_shape(event,x,y,flags,param):\n",
    "    global drawing,mode,ix,iy\n",
    "    \n",
    "    if event==cv2.EVENT_LBUTTONDOWN:\n",
    "        drawing =True\n",
    "        ix,iy=x,y\n",
    "        \n",
    "    elif event==cv2.EVENT_MOUSEMOVE:\n",
    "        if drawing==True:\n",
    "            if mode ==True:\n",
    "                cv2.rectangle(img1,(ix,iy),(x,y),(0,255,0),-1)\n",
    "            else:\n",
    "                cv2.circle(img1,(x,y),5,(0,0,255),-1)\n",
    "    elif event ==cv2.EVENT_LBUTTONUP:\n",
    "        drawing =False\n",
    "        mode =True\n",
    "        if mode ==True:\n",
    "            cv2.rectangle(img1,(ix,iy),(x,y),(0,255,0),-1)\n",
    "        else:\n",
    "            cv2.circle(img1,(x,y),5,(0,0,255),-1)\n",
    "        \n",
    "            \n",
    "cv2.setMouseCallback(windowName,draw_shape)     \n",
    "            \n",
    "def main():\n",
    "    global mode\n",
    "    while(True):\n",
    "        cv2.imshow(windowName,img1)\n",
    "        \n",
    "        k=cv2.waitKey(1)\n",
    "        if k==ord('m') or k==ord('M'):\n",
    "            mode = not mode\n",
    "        elif k == 27:\n",
    "                break\n",
    "        \n",
    "    cv2.destroyAllWindows()\n",
    "if __name__=='__main__':\n",
    "    main()    \n",
    "         \n",
    "     "
   ]
  }
 ],
 "metadata": {
  "kernelspec": {
   "display_name": "Python 2",
   "language": "python",
   "name": "python2"
  },
  "language_info": {
   "codemirror_mode": {
    "name": "ipython",
    "version": 2
   },
   "file_extension": ".py",
   "mimetype": "text/x-python",
   "name": "python",
   "nbconvert_exporter": "python",
   "pygments_lexer": "ipython2",
   "version": "2.7.15"
  }
 },
 "nbformat": 4,
 "nbformat_minor": 2
}
